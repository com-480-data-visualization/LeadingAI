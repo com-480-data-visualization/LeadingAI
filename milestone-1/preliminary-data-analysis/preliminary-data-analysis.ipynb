{
 "cells": [
  {
   "cell_type": "code",
   "execution_count": 3,
   "metadata": {},
   "outputs": [
    {
     "name": "stdout",
     "output_type": "stream",
     "text": [
      "                    Country  Talent  Infrastructure  Operating Environment  \\\n",
      "0  United States of America  100.00           94.02                  64.56   \n",
      "1                     China   16.51          100.00                  91.57   \n",
      "2            United Kingdom   39.65           71.43                  74.65   \n",
      "3                    Canada   31.28           77.05                  93.94   \n",
      "4                    Israel   35.76           67.58                  82.44   \n",
      "\n",
      "   Research  Development  Government Strategy  Commercial  Total score  \\\n",
      "0    100.00       100.00                77.39      100.00       100.00   \n",
      "1     71.42        79.97                94.87       44.02        62.92   \n",
      "2     36.50        25.03                82.82       18.91        40.93   \n",
      "3     30.67        25.78               100.00       14.88        40.19   \n",
      "4     32.63        27.96                43.91       27.33        39.89   \n",
      "\n",
      "         Region                Cluster  Income group   Political regime  \n",
      "0      Americas          Power players          High  Liberal democracy  \n",
      "1  Asia-Pacific          Power players  Upper middle   Closed autocracy  \n",
      "2        Europe  Traditional champions          High  Liberal democracy  \n",
      "3      Americas  Traditional champions          High  Liberal democracy  \n",
      "4   Middle East           Rising stars          High  Liberal democracy  \n"
     ]
    }
   ],
   "source": [
    "# Load the data from ./data/AI_index_db.csv\n",
    "import numpy as np\n",
    "import pandas as pd\n",
    "import dataframe_image as dfi\n",
    "\n",
    "# Load the data\n",
    "data = pd.read_csv('./data/AI_index_db.csv')\n",
    "\n",
    "# Display the first few rows of the data\n",
    "print(data.head())\n"
   ]
  },
  {
   "cell_type": "code",
   "execution_count": 23,
   "metadata": {},
   "outputs": [
    {
     "name": "stdout",
     "output_type": "stream",
     "text": [
      "                    Country  Total score\n",
      "0  United States of America       100.00\n",
      "1                     China        62.92\n",
      "2            United Kingdom        40.93\n",
      "3                    Canada        40.19\n",
      "4                    Israel        39.89\n"
     ]
    }
   ],
   "source": [
    "# Get the top 5 countries by \"Total score\"\n",
    "top_5_countries = data.sort_values(by='Total score', ascending=False).head(5)\n",
    "\n",
    "# display only the columns \"Country\" and \"Total score\"\n",
    "print(top_5_countries[['Country', 'Total score']])\n",
    "\n",
    "# export png\n",
    "\n",
    "# map row names to rank\n",
    "top_5_countries['Rank'] = range(1, 6)\n",
    "top_5_countries.set_index('Rank', inplace=True)\n",
    "dfi.export(top_5_countries[['Country', 'Total score']], 'top_5_countries.png')"
   ]
  },
  {
   "cell_type": "code",
   "execution_count": 25,
   "metadata": {},
   "outputs": [
    {
     "name": "stdout",
     "output_type": "stream",
     "text": [
      "Region\n",
      "Americas        29.031250\n",
      "Asia-Pacific    25.792143\n",
      "Europe          25.493103\n",
      "Middle East     19.656667\n",
      "Africa           6.426000\n",
      "dtype: float64\n"
     ]
    }
   ],
   "source": [
    "# Rank the class \"Region\" by the average \"Total score\" for each region\n",
    "\n",
    "# Group the data by \"Region\"\n",
    "grouped_data = data.groupby('Region')\n",
    "\n",
    "# Calculate the total score for each region\n",
    "total_score = grouped_data['Total score'].sum()\n",
    "\n",
    "# Rank the regions by the total score divided by the number of countries in the region\n",
    "ranked_regions = total_score / grouped_data['Country'].count()\n",
    "\n",
    "# Display the ranked regions\n",
    "print(ranked_regions.sort_values(ascending=False))\n",
    "\n",
    "# export png\n",
    "ranked_regions = ranked_regions.sort_values(ascending=False)\n",
    "ranked_regions = ranked_regions.reset_index()\n",
    "ranked_regions['Rank'] = range(1, len(ranked_regions) + 1)\n",
    "ranked_regions.set_index('Rank', inplace=True)\n",
    "# set column name\n",
    "ranked_regions.columns = ['', 'Average Region Score']\n",
    "\n",
    "\n",
    "dfi.export(ranked_regions, 'ranked_regions.png')"
   ]
  },
  {
   "cell_type": "code",
   "execution_count": 20,
   "metadata": {},
   "outputs": [],
   "source": [
    "# For each index: 'Talent', 'Infrastructure', 'Operating Environment', 'Research', 'Development', 'Government Strategy', 'Commercial', 'Total score'\n",
    "# Display a table that shows:\n",
    "# - The mean value of the index\n",
    "# - The median value of the index\n",
    "# - The standard deviation of the index\n",
    "# - The name of the country with the highest value of the index\n",
    "# - The name of the country with the lowest value of the index\n",
    "# export the table to a png file\n",
    "\n",
    "columns = ['Talent', 'Infrastructure', 'Operating Environment', 'Research', 'Development', 'Government Strategy', 'Commercial', 'Total score']\n",
    "row_titles = ['Mean Value of the index', 'Median Value of the index', 'Standard Deviation of the index', 'Country with the highest value (100)', 'Country with the lowest value (0)']\n",
    "\n",
    "# Create a table to store the results\n",
    "table = pd.DataFrame(index=row_titles, columns=columns)\n",
    "\n",
    "# Calculate the mean, median, and standard deviation of each index\n",
    "for column in columns:\n",
    "    # format numerical values to 2 decimal places\n",
    "    table.loc['Mean Value of the index', column] = format(data[column].mean(), '.2f')\n",
    "    table.loc['Median Value of the index', column] = format(data[column].median(), '.2f')\n",
    "    table.loc['Standard Deviation of the index', column] = format(data[column].std(), '.2f')\n",
    "    table.loc['Country with the highest value (100)', column] = data.loc[data[column].idxmax()]['Country']\n",
    "    table.loc['Country with the lowest value (0)', column] = data.loc[data[column].idxmin()]['Country']\n",
    "\n",
    "\n",
    "dfi.export(table, 'table.png')\n",
    "\n",
    "# split the data in 2 images\n",
    "dfi.export(table.iloc[:, :4], 'table1.png')\n",
    "dfi.export(table.iloc[:, 4:], 'table2.png')\n",
    "\n",
    "\n"
   ]
  }
 ],
 "metadata": {
  "kernelspec": {
   "display_name": "Python 3",
   "language": "python",
   "name": "python3"
  },
  "language_info": {
   "codemirror_mode": {
    "name": "ipython",
    "version": 3
   },
   "file_extension": ".py",
   "mimetype": "text/x-python",
   "name": "python",
   "nbconvert_exporter": "python",
   "pygments_lexer": "ipython3",
   "version": "3.12.0"
  }
 },
 "nbformat": 4,
 "nbformat_minor": 2
}
